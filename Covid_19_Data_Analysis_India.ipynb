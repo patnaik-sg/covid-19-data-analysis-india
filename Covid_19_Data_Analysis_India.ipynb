{
  "nbformat": 4,
  "nbformat_minor": 0,
  "metadata": {
    "colab": {
      "name": "Covid 19 Data Analysis India.ipynb",
      "provenance": []
    },
    "kernelspec": {
      "name": "python3",
      "display_name": "Python 3"
    }
  },
  "cells": [
    {
      "cell_type": "markdown",
      "metadata": {
        "id": "gisp0BBvrS7T",
        "colab_type": "text"
      },
      "source": [
        "# **Data Analysis of Covid 19 Spread in India**\n",
        "\n",
        "**By**\n",
        "[Patnaik SG](https://linkedin.com/in/patnaik-sg/)"
      ]
    },
    {
      "cell_type": "markdown",
      "metadata": {
        "id": "rpw1SSbyemVM",
        "colab_type": "text"
      },
      "source": [
        "## **Importing Libraries**"
      ]
    },
    {
      "cell_type": "code",
      "metadata": {
        "id": "4BkLKLuCNJMh",
        "colab_type": "code",
        "colab": {}
      },
      "source": [
        "import numpy as np\n",
        "import pandas as pd\n",
        "import matplotlib.pyplot as plt"
      ],
      "execution_count": 0,
      "outputs": []
    },
    {
      "cell_type": "code",
      "metadata": {
        "id": "MFeZsTdMN62t",
        "colab_type": "code",
        "colab": {
          "base_uri": "https://localhost:8080/",
          "height": 122
        },
        "outputId": "5517f1ab-4ba9-4c75-9d51-a2b638f84d83"
      },
      "source": [
        "from google.colab import drive\n",
        "\n",
        "drive.mount('/content/gdrive')"
      ],
      "execution_count": 2,
      "outputs": [
        {
          "output_type": "stream",
          "text": [
            "Go to this URL in a browser: https://accounts.google.com/o/oauth2/auth?client_id=947318989803-6bn6qk8qdgf4n4g3pfee6491hc0brc4i.apps.googleusercontent.com&redirect_uri=urn%3aietf%3awg%3aoauth%3a2.0%3aoob&response_type=code&scope=email%20https%3a%2f%2fwww.googleapis.com%2fauth%2fdocs.test%20https%3a%2f%2fwww.googleapis.com%2fauth%2fdrive%20https%3a%2f%2fwww.googleapis.com%2fauth%2fdrive.photos.readonly%20https%3a%2f%2fwww.googleapis.com%2fauth%2fpeopleapi.readonly\n",
            "\n",
            "Enter your authorization code:\n",
            "··········\n",
            "Mounted at /content/gdrive\n"
          ],
          "name": "stdout"
        }
      ]
    },
    {
      "cell_type": "markdown",
      "metadata": {
        "id": "7CUonQ7DexlV",
        "colab_type": "text"
      },
      "source": [
        "## **Importing Data Sets**"
      ]
    },
    {
      "cell_type": "code",
      "metadata": {
        "id": "PKdjR0fDONDn",
        "colab_type": "code",
        "colab": {}
      },
      "source": [
        "data = pd.read_csv(\"/content/gdrive/My Drive/Data Sets/covid_19_india.csv\")\n",
        "data2 = pd.read_csv(\"/content/gdrive/My Drive/Data Sets/covid_19_india_timeseries.csv\")"
      ],
      "execution_count": 0,
      "outputs": []
    },
    {
      "cell_type": "code",
      "metadata": {
        "id": "5NvJgpy2PMoa",
        "colab_type": "code",
        "colab": {
          "base_uri": "https://localhost:8080/",
          "height": 306
        },
        "outputId": "3a7ed613-a7a6-49e3-bdae-e2987e33a775"
      },
      "source": [
        "data.head()"
      ],
      "execution_count": 4,
      "outputs": [
        {
          "output_type": "execute_result",
          "data": {
            "text/html": [
              "<div>\n",
              "<style scoped>\n",
              "    .dataframe tbody tr th:only-of-type {\n",
              "        vertical-align: middle;\n",
              "    }\n",
              "\n",
              "    .dataframe tbody tr th {\n",
              "        vertical-align: top;\n",
              "    }\n",
              "\n",
              "    .dataframe thead th {\n",
              "        text-align: right;\n",
              "    }\n",
              "</style>\n",
              "<table border=\"1\" class=\"dataframe\">\n",
              "  <thead>\n",
              "    <tr style=\"text-align: right;\">\n",
              "      <th></th>\n",
              "      <th>Name of State / UT</th>\n",
              "      <th>Total Confirmed cases*</th>\n",
              "      <th>Cured/Discharged/Migrated</th>\n",
              "      <th>Death</th>\n",
              "      <th>Date</th>\n",
              "      <th>Latitude</th>\n",
              "      <th>Longitude</th>\n",
              "      <th>Total cases</th>\n",
              "    </tr>\n",
              "  </thead>\n",
              "  <tbody>\n",
              "    <tr>\n",
              "      <th>0</th>\n",
              "      <td>Andaman and Nicobar Islands</td>\n",
              "      <td>33</td>\n",
              "      <td>33</td>\n",
              "      <td>0</td>\n",
              "      <td>2020-05-29</td>\n",
              "      <td>11.7401</td>\n",
              "      <td>92.6586</td>\n",
              "      <td>33</td>\n",
              "    </tr>\n",
              "    <tr>\n",
              "      <th>1</th>\n",
              "      <td>Andhra Pradesh</td>\n",
              "      <td>3251</td>\n",
              "      <td>2125</td>\n",
              "      <td>59</td>\n",
              "      <td>2020-05-29</td>\n",
              "      <td>15.9129</td>\n",
              "      <td>79.7400</td>\n",
              "      <td>3251</td>\n",
              "    </tr>\n",
              "    <tr>\n",
              "      <th>2</th>\n",
              "      <td>Arunachal Pradesh</td>\n",
              "      <td>3</td>\n",
              "      <td>1</td>\n",
              "      <td>0</td>\n",
              "      <td>2020-05-29</td>\n",
              "      <td>28.2180</td>\n",
              "      <td>94.7278</td>\n",
              "      <td>3</td>\n",
              "    </tr>\n",
              "    <tr>\n",
              "      <th>3</th>\n",
              "      <td>Assam</td>\n",
              "      <td>856</td>\n",
              "      <td>104</td>\n",
              "      <td>4</td>\n",
              "      <td>2020-05-29</td>\n",
              "      <td>26.2006</td>\n",
              "      <td>92.9376</td>\n",
              "      <td>856</td>\n",
              "    </tr>\n",
              "    <tr>\n",
              "      <th>4</th>\n",
              "      <td>Bihar</td>\n",
              "      <td>3296</td>\n",
              "      <td>1211</td>\n",
              "      <td>15</td>\n",
              "      <td>2020-05-29</td>\n",
              "      <td>25.0961</td>\n",
              "      <td>85.3131</td>\n",
              "      <td>3296</td>\n",
              "    </tr>\n",
              "  </tbody>\n",
              "</table>\n",
              "</div>"
            ],
            "text/plain": [
              "            Name of State / UT  Total Confirmed cases*   ...  Longitude  Total cases\n",
              "0  Andaman and Nicobar Islands                       33  ...    92.6586           33\n",
              "1               Andhra Pradesh                     3251  ...    79.7400         3251\n",
              "2            Arunachal Pradesh                        3  ...    94.7278            3\n",
              "3                        Assam                      856  ...    92.9376          856\n",
              "4                        Bihar                     3296  ...    85.3131         3296\n",
              "\n",
              "[5 rows x 8 columns]"
            ]
          },
          "metadata": {
            "tags": []
          },
          "execution_count": 4
        }
      ]
    },
    {
      "cell_type": "markdown",
      "metadata": {
        "id": "85IpwIgye68T",
        "colab_type": "text"
      },
      "source": [
        "## **Overview of Datset**"
      ]
    },
    {
      "cell_type": "code",
      "metadata": {
        "id": "Tf5kbCX-PPHU",
        "colab_type": "code",
        "colab": {
          "base_uri": "https://localhost:8080/",
          "height": 1000
        },
        "outputId": "f7390151-ffad-484e-fa45-cca3e93d0f86"
      },
      "source": [
        "data"
      ],
      "execution_count": 5,
      "outputs": [
        {
          "output_type": "execute_result",
          "data": {
            "text/html": [
              "<div>\n",
              "<style scoped>\n",
              "    .dataframe tbody tr th:only-of-type {\n",
              "        vertical-align: middle;\n",
              "    }\n",
              "\n",
              "    .dataframe tbody tr th {\n",
              "        vertical-align: top;\n",
              "    }\n",
              "\n",
              "    .dataframe thead th {\n",
              "        text-align: right;\n",
              "    }\n",
              "</style>\n",
              "<table border=\"1\" class=\"dataframe\">\n",
              "  <thead>\n",
              "    <tr style=\"text-align: right;\">\n",
              "      <th></th>\n",
              "      <th>Name of State / UT</th>\n",
              "      <th>Total Confirmed cases*</th>\n",
              "      <th>Cured/Discharged/Migrated</th>\n",
              "      <th>Death</th>\n",
              "      <th>Date</th>\n",
              "      <th>Latitude</th>\n",
              "      <th>Longitude</th>\n",
              "      <th>Total cases</th>\n",
              "    </tr>\n",
              "  </thead>\n",
              "  <tbody>\n",
              "    <tr>\n",
              "      <th>0</th>\n",
              "      <td>Andaman and Nicobar Islands</td>\n",
              "      <td>33</td>\n",
              "      <td>33</td>\n",
              "      <td>0</td>\n",
              "      <td>2020-05-29</td>\n",
              "      <td>11.7401</td>\n",
              "      <td>92.6586</td>\n",
              "      <td>33</td>\n",
              "    </tr>\n",
              "    <tr>\n",
              "      <th>1</th>\n",
              "      <td>Andhra Pradesh</td>\n",
              "      <td>3251</td>\n",
              "      <td>2125</td>\n",
              "      <td>59</td>\n",
              "      <td>2020-05-29</td>\n",
              "      <td>15.9129</td>\n",
              "      <td>79.7400</td>\n",
              "      <td>3251</td>\n",
              "    </tr>\n",
              "    <tr>\n",
              "      <th>2</th>\n",
              "      <td>Arunachal Pradesh</td>\n",
              "      <td>3</td>\n",
              "      <td>1</td>\n",
              "      <td>0</td>\n",
              "      <td>2020-05-29</td>\n",
              "      <td>28.2180</td>\n",
              "      <td>94.7278</td>\n",
              "      <td>3</td>\n",
              "    </tr>\n",
              "    <tr>\n",
              "      <th>3</th>\n",
              "      <td>Assam</td>\n",
              "      <td>856</td>\n",
              "      <td>104</td>\n",
              "      <td>4</td>\n",
              "      <td>2020-05-29</td>\n",
              "      <td>26.2006</td>\n",
              "      <td>92.9376</td>\n",
              "      <td>856</td>\n",
              "    </tr>\n",
              "    <tr>\n",
              "      <th>4</th>\n",
              "      <td>Bihar</td>\n",
              "      <td>3296</td>\n",
              "      <td>1211</td>\n",
              "      <td>15</td>\n",
              "      <td>2020-05-29</td>\n",
              "      <td>25.0961</td>\n",
              "      <td>85.3131</td>\n",
              "      <td>3296</td>\n",
              "    </tr>\n",
              "    <tr>\n",
              "      <th>5</th>\n",
              "      <td>Chandigarh</td>\n",
              "      <td>288</td>\n",
              "      <td>189</td>\n",
              "      <td>4</td>\n",
              "      <td>2020-05-29</td>\n",
              "      <td>30.7333</td>\n",
              "      <td>76.7794</td>\n",
              "      <td>288</td>\n",
              "    </tr>\n",
              "    <tr>\n",
              "      <th>6</th>\n",
              "      <td>Chhattisgarh</td>\n",
              "      <td>399</td>\n",
              "      <td>83</td>\n",
              "      <td>0</td>\n",
              "      <td>2020-05-29</td>\n",
              "      <td>21.2787</td>\n",
              "      <td>81.8661</td>\n",
              "      <td>399</td>\n",
              "    </tr>\n",
              "    <tr>\n",
              "      <th>7</th>\n",
              "      <td>Dadar Nagar Haveli</td>\n",
              "      <td>2</td>\n",
              "      <td>0</td>\n",
              "      <td>0</td>\n",
              "      <td>2020-05-29</td>\n",
              "      <td>NaN</td>\n",
              "      <td>NaN</td>\n",
              "      <td>2</td>\n",
              "    </tr>\n",
              "    <tr>\n",
              "      <th>8</th>\n",
              "      <td>Delhi</td>\n",
              "      <td>16281</td>\n",
              "      <td>7495</td>\n",
              "      <td>316</td>\n",
              "      <td>2020-05-29</td>\n",
              "      <td>28.7041</td>\n",
              "      <td>77.1025</td>\n",
              "      <td>16281</td>\n",
              "    </tr>\n",
              "    <tr>\n",
              "      <th>9</th>\n",
              "      <td>Goa</td>\n",
              "      <td>69</td>\n",
              "      <td>38</td>\n",
              "      <td>0</td>\n",
              "      <td>2020-05-29</td>\n",
              "      <td>15.2993</td>\n",
              "      <td>74.1240</td>\n",
              "      <td>69</td>\n",
              "    </tr>\n",
              "    <tr>\n",
              "      <th>10</th>\n",
              "      <td>Gujarat</td>\n",
              "      <td>15562</td>\n",
              "      <td>8003</td>\n",
              "      <td>960</td>\n",
              "      <td>2020-05-29</td>\n",
              "      <td>22.2587</td>\n",
              "      <td>71.1924</td>\n",
              "      <td>15562</td>\n",
              "    </tr>\n",
              "    <tr>\n",
              "      <th>11</th>\n",
              "      <td>Haryana</td>\n",
              "      <td>1504</td>\n",
              "      <td>881</td>\n",
              "      <td>19</td>\n",
              "      <td>2020-05-29</td>\n",
              "      <td>29.0588</td>\n",
              "      <td>76.0856</td>\n",
              "      <td>1504</td>\n",
              "    </tr>\n",
              "    <tr>\n",
              "      <th>12</th>\n",
              "      <td>Himachal Pradesh</td>\n",
              "      <td>276</td>\n",
              "      <td>70</td>\n",
              "      <td>5</td>\n",
              "      <td>2020-05-29</td>\n",
              "      <td>31.1048</td>\n",
              "      <td>77.1734</td>\n",
              "      <td>276</td>\n",
              "    </tr>\n",
              "    <tr>\n",
              "      <th>13</th>\n",
              "      <td>Jammu and Kashmir</td>\n",
              "      <td>2036</td>\n",
              "      <td>859</td>\n",
              "      <td>27</td>\n",
              "      <td>2020-05-29</td>\n",
              "      <td>33.7782</td>\n",
              "      <td>76.5762</td>\n",
              "      <td>2036</td>\n",
              "    </tr>\n",
              "    <tr>\n",
              "      <th>14</th>\n",
              "      <td>Jharkhand</td>\n",
              "      <td>469</td>\n",
              "      <td>212</td>\n",
              "      <td>4</td>\n",
              "      <td>2020-05-29</td>\n",
              "      <td>23.6102</td>\n",
              "      <td>85.2799</td>\n",
              "      <td>469</td>\n",
              "    </tr>\n",
              "    <tr>\n",
              "      <th>15</th>\n",
              "      <td>Karnataka</td>\n",
              "      <td>2533</td>\n",
              "      <td>834</td>\n",
              "      <td>47</td>\n",
              "      <td>2020-05-29</td>\n",
              "      <td>15.3173</td>\n",
              "      <td>75.7139</td>\n",
              "      <td>2533</td>\n",
              "    </tr>\n",
              "    <tr>\n",
              "      <th>16</th>\n",
              "      <td>Kerala</td>\n",
              "      <td>1088</td>\n",
              "      <td>555</td>\n",
              "      <td>7</td>\n",
              "      <td>2020-05-29</td>\n",
              "      <td>10.8505</td>\n",
              "      <td>76.2711</td>\n",
              "      <td>1088</td>\n",
              "    </tr>\n",
              "    <tr>\n",
              "      <th>17</th>\n",
              "      <td>Ladakh</td>\n",
              "      <td>73</td>\n",
              "      <td>43</td>\n",
              "      <td>0</td>\n",
              "      <td>2020-05-29</td>\n",
              "      <td>34.2996</td>\n",
              "      <td>78.2932</td>\n",
              "      <td>73</td>\n",
              "    </tr>\n",
              "    <tr>\n",
              "      <th>18</th>\n",
              "      <td>Madhya Pradesh</td>\n",
              "      <td>7453</td>\n",
              "      <td>4050</td>\n",
              "      <td>321</td>\n",
              "      <td>2020-05-29</td>\n",
              "      <td>22.9734</td>\n",
              "      <td>78.6569</td>\n",
              "      <td>7453</td>\n",
              "    </tr>\n",
              "    <tr>\n",
              "      <th>19</th>\n",
              "      <td>Maharashtra</td>\n",
              "      <td>59546</td>\n",
              "      <td>18616</td>\n",
              "      <td>1982</td>\n",
              "      <td>2020-05-29</td>\n",
              "      <td>19.7515</td>\n",
              "      <td>75.7139</td>\n",
              "      <td>59546</td>\n",
              "    </tr>\n",
              "    <tr>\n",
              "      <th>20</th>\n",
              "      <td>Manipur</td>\n",
              "      <td>55</td>\n",
              "      <td>5</td>\n",
              "      <td>0</td>\n",
              "      <td>2020-05-29</td>\n",
              "      <td>24.6637</td>\n",
              "      <td>93.9063</td>\n",
              "      <td>55</td>\n",
              "    </tr>\n",
              "    <tr>\n",
              "      <th>21</th>\n",
              "      <td>Meghalaya</td>\n",
              "      <td>21</td>\n",
              "      <td>12</td>\n",
              "      <td>1</td>\n",
              "      <td>2020-05-29</td>\n",
              "      <td>25.4670</td>\n",
              "      <td>91.3662</td>\n",
              "      <td>21</td>\n",
              "    </tr>\n",
              "    <tr>\n",
              "      <th>22</th>\n",
              "      <td>Mizoram</td>\n",
              "      <td>1</td>\n",
              "      <td>1</td>\n",
              "      <td>0</td>\n",
              "      <td>2020-05-29</td>\n",
              "      <td>23.1645</td>\n",
              "      <td>92.9376</td>\n",
              "      <td>1</td>\n",
              "    </tr>\n",
              "    <tr>\n",
              "      <th>23</th>\n",
              "      <td>Nagaland</td>\n",
              "      <td>18</td>\n",
              "      <td>0</td>\n",
              "      <td>0</td>\n",
              "      <td>2020-05-29</td>\n",
              "      <td>NaN</td>\n",
              "      <td>NaN</td>\n",
              "      <td>18</td>\n",
              "    </tr>\n",
              "    <tr>\n",
              "      <th>24</th>\n",
              "      <td>Odisha</td>\n",
              "      <td>1660</td>\n",
              "      <td>887</td>\n",
              "      <td>0</td>\n",
              "      <td>2020-05-29</td>\n",
              "      <td>20.9517</td>\n",
              "      <td>85.0985</td>\n",
              "      <td>1660</td>\n",
              "    </tr>\n",
              "    <tr>\n",
              "      <th>25</th>\n",
              "      <td>Puducherry</td>\n",
              "      <td>51</td>\n",
              "      <td>14</td>\n",
              "      <td>0</td>\n",
              "      <td>2020-05-29</td>\n",
              "      <td>11.9416</td>\n",
              "      <td>79.8083</td>\n",
              "      <td>51</td>\n",
              "    </tr>\n",
              "    <tr>\n",
              "      <th>26</th>\n",
              "      <td>Punjab</td>\n",
              "      <td>2158</td>\n",
              "      <td>1946</td>\n",
              "      <td>40</td>\n",
              "      <td>2020-05-29</td>\n",
              "      <td>31.1471</td>\n",
              "      <td>75.3412</td>\n",
              "      <td>2158</td>\n",
              "    </tr>\n",
              "    <tr>\n",
              "      <th>27</th>\n",
              "      <td>Rajasthan</td>\n",
              "      <td>8067</td>\n",
              "      <td>4817</td>\n",
              "      <td>180</td>\n",
              "      <td>2020-05-29</td>\n",
              "      <td>27.0238</td>\n",
              "      <td>74.2179</td>\n",
              "      <td>8067</td>\n",
              "    </tr>\n",
              "    <tr>\n",
              "      <th>28</th>\n",
              "      <td>Sikkim</td>\n",
              "      <td>1</td>\n",
              "      <td>0</td>\n",
              "      <td>0</td>\n",
              "      <td>2020-05-29</td>\n",
              "      <td>NaN</td>\n",
              "      <td>NaN</td>\n",
              "      <td>1</td>\n",
              "    </tr>\n",
              "    <tr>\n",
              "      <th>29</th>\n",
              "      <td>Tamil Nadu</td>\n",
              "      <td>19372</td>\n",
              "      <td>10548</td>\n",
              "      <td>145</td>\n",
              "      <td>2020-05-29</td>\n",
              "      <td>11.1271</td>\n",
              "      <td>78.6569</td>\n",
              "      <td>19372</td>\n",
              "    </tr>\n",
              "    <tr>\n",
              "      <th>30</th>\n",
              "      <td>Telengana</td>\n",
              "      <td>2256</td>\n",
              "      <td>1345</td>\n",
              "      <td>67</td>\n",
              "      <td>2020-05-29</td>\n",
              "      <td>18.1124</td>\n",
              "      <td>79.0193</td>\n",
              "      <td>2256</td>\n",
              "    </tr>\n",
              "    <tr>\n",
              "      <th>31</th>\n",
              "      <td>Tripura</td>\n",
              "      <td>242</td>\n",
              "      <td>167</td>\n",
              "      <td>0</td>\n",
              "      <td>2020-05-29</td>\n",
              "      <td>23.9408</td>\n",
              "      <td>91.9882</td>\n",
              "      <td>242</td>\n",
              "    </tr>\n",
              "    <tr>\n",
              "      <th>32</th>\n",
              "      <td>Uttarakhand</td>\n",
              "      <td>500</td>\n",
              "      <td>79</td>\n",
              "      <td>4</td>\n",
              "      <td>2020-05-29</td>\n",
              "      <td>30.0668</td>\n",
              "      <td>79.0193</td>\n",
              "      <td>500</td>\n",
              "    </tr>\n",
              "    <tr>\n",
              "      <th>33</th>\n",
              "      <td>Uttar Pradesh</td>\n",
              "      <td>7170</td>\n",
              "      <td>4215</td>\n",
              "      <td>197</td>\n",
              "      <td>2020-05-29</td>\n",
              "      <td>26.8467</td>\n",
              "      <td>80.9462</td>\n",
              "      <td>7170</td>\n",
              "    </tr>\n",
              "    <tr>\n",
              "      <th>34</th>\n",
              "      <td>West Bengal</td>\n",
              "      <td>4536</td>\n",
              "      <td>1668</td>\n",
              "      <td>295</td>\n",
              "      <td>2020-05-29</td>\n",
              "      <td>22.9868</td>\n",
              "      <td>87.8550</td>\n",
              "      <td>4536</td>\n",
              "    </tr>\n",
              "  </tbody>\n",
              "</table>\n",
              "</div>"
            ],
            "text/plain": [
              "             Name of State / UT  ...  Total cases\n",
              "0   Andaman and Nicobar Islands  ...           33\n",
              "1                Andhra Pradesh  ...         3251\n",
              "2             Arunachal Pradesh  ...            3\n",
              "3                         Assam  ...          856\n",
              "4                         Bihar  ...         3296\n",
              "5                    Chandigarh  ...          288\n",
              "6                  Chhattisgarh  ...          399\n",
              "7            Dadar Nagar Haveli  ...            2\n",
              "8                         Delhi  ...        16281\n",
              "9                           Goa  ...           69\n",
              "10                      Gujarat  ...        15562\n",
              "11                      Haryana  ...         1504\n",
              "12             Himachal Pradesh  ...          276\n",
              "13            Jammu and Kashmir  ...         2036\n",
              "14                    Jharkhand  ...          469\n",
              "15                    Karnataka  ...         2533\n",
              "16                       Kerala  ...         1088\n",
              "17                       Ladakh  ...           73\n",
              "18               Madhya Pradesh  ...         7453\n",
              "19                  Maharashtra  ...        59546\n",
              "20                      Manipur  ...           55\n",
              "21                    Meghalaya  ...           21\n",
              "22                      Mizoram  ...            1\n",
              "23                     Nagaland  ...           18\n",
              "24                       Odisha  ...         1660\n",
              "25                   Puducherry  ...           51\n",
              "26                       Punjab  ...         2158\n",
              "27                    Rajasthan  ...         8067\n",
              "28                       Sikkim  ...            1\n",
              "29                   Tamil Nadu  ...        19372\n",
              "30                    Telengana  ...         2256\n",
              "31                      Tripura  ...          242\n",
              "32                  Uttarakhand  ...          500\n",
              "33                Uttar Pradesh  ...         7170\n",
              "34                  West Bengal  ...         4536\n",
              "\n",
              "[35 rows x 8 columns]"
            ]
          },
          "metadata": {
            "tags": []
          },
          "execution_count": 5
        }
      ]
    },
    {
      "cell_type": "code",
      "metadata": {
        "id": "4Gp8iGb1P6b7",
        "colab_type": "code",
        "colab": {
          "base_uri": "https://localhost:8080/",
          "height": 282
        },
        "outputId": "91524aa0-ccc4-4e28-e0db-c45ab30192ec"
      },
      "source": [
        "data[0:10].plot.barh(x=\"Name of State / UT\",y=\"Total cases\")"
      ],
      "execution_count": 6,
      "outputs": [
        {
          "output_type": "execute_result",
          "data": {
            "text/plain": [
              "<matplotlib.axes._subplots.AxesSubplot at 0x7f05eb3754a8>"
            ]
          },
          "metadata": {
            "tags": []
          },
          "execution_count": 6
        },
        {
          "output_type": "display_data",
          "data": {
            "image/png": "[encoded data removed]",
            "text/plain": [
              "<Figure size 432x288 with 1 Axes>"
            ]
          },
          "metadata": {
            "tags": [],
            "needs_background": "light"
          }
        }
      ]
    },
    {
      "cell_type": "markdown",
      "metadata": {
        "id": "-Q89W-VJfEvK",
        "colab_type": "text"
      },
      "source": [
        "## **Top 10 States with highest number of Confirmed Cases**"
      ]
    },
    {
      "cell_type": "code",
      "metadata": {
        "id": "y-QcIdurQX49",
        "colab_type": "code",
        "colab": {
          "base_uri": "https://localhost:8080/",
          "height": 282
        },
        "outputId": "f070c0ba-a2f8-4a27-bf9d-ed29dfff6aab"
      },
      "source": [
        "data.sort_values(by=['Total cases'], inplace=True, ascending=False)\n",
        "data[0:10].plot.barh(x=\"Name of State / UT\",y=\"Total cases\")"
      ],
      "execution_count": 7,
      "outputs": [
        {
          "output_type": "execute_result",
          "data": {
            "text/plain": [
              "<matplotlib.axes._subplots.AxesSubplot at 0x7f05eb272a58>"
            ]
          },
          "metadata": {
            "tags": []
          },
          "execution_count": 7
        },
        {
          "output_type": "display_data",
          "data": {
            "image/png": "[encoded data removed]",
            "text/plain": [
              "<Figure size 432x288 with 1 Axes>"
            ]
          },
          "metadata": {
            "tags": [],
            "needs_background": "light"
          }
        }
      ]
    },
    {
      "cell_type": "markdown",
      "metadata": {
        "id": "tUde71IbfSpk",
        "colab_type": "text"
      },
      "source": [
        "## **Representation of Total Cases vs Cured vs Death of each state**"
      ]
    },
    {
      "cell_type": "code",
      "metadata": {
        "id": "sYTTuztVSjZp",
        "colab_type": "code",
        "colab": {
          "base_uri": "https://localhost:8080/",
          "height": 436
        },
        "outputId": "a2175865-9db8-4bed-e444-bacff00abac7"
      },
      "source": [
        "data.plot(x=\"Name of State / UT\", y=[\"Total cases\", \"Cured/Discharged/Migrated\", \"Death\"], kind=\"bar\")"
      ],
      "execution_count": 8,
      "outputs": [
        {
          "output_type": "execute_result",
          "data": {
            "text/plain": [
              "<matplotlib.axes._subplots.AxesSubplot at 0x7f05eada0e10>"
            ]
          },
          "metadata": {
            "tags": []
          },
          "execution_count": 8
        },
        {
          "output_type": "display_data",
          "data": {
            "image/png": "[encoded data removed]",
            "text/plain": [
              "<Figure size 432x288 with 1 Axes>"
            ]
          },
          "metadata": {
            "tags": [],
            "needs_background": "light"
          }
        }
      ]
    },
    {
      "cell_type": "markdown",
      "metadata": {
        "id": "nHT9bTf5fgs5",
        "colab_type": "text"
      },
      "source": [
        "## **Overview of Time Series Dataset of Covid 19 Trend in India**"
      ]
    },
    {
      "cell_type": "code",
      "metadata": {
        "id": "vbRzifPCUPoj",
        "colab_type": "code",
        "colab": {
          "base_uri": "https://localhost:8080/",
          "height": 204
        },
        "outputId": "2d13de73-a3f5-45dc-f83b-775e93f8617d"
      },
      "source": [
        "data2.head()"
      ],
      "execution_count": 9,
      "outputs": [
        {
          "output_type": "execute_result",
          "data": {
            "text/html": [
              "<div>\n",
              "<style scoped>\n",
              "    .dataframe tbody tr th:only-of-type {\n",
              "        vertical-align: middle;\n",
              "    }\n",
              "\n",
              "    .dataframe tbody tr th {\n",
              "        vertical-align: top;\n",
              "    }\n",
              "\n",
              "    .dataframe thead th {\n",
              "        text-align: right;\n",
              "    }\n",
              "</style>\n",
              "<table border=\"1\" class=\"dataframe\">\n",
              "  <thead>\n",
              "    <tr style=\"text-align: right;\">\n",
              "      <th></th>\n",
              "      <th>Date</th>\n",
              "      <th>Total cases</th>\n",
              "      <th>Total Recovered</th>\n",
              "      <th>Total Death</th>\n",
              "      <th>X.1</th>\n",
              "      <th>X.2</th>\n",
              "      <th>X.3</th>\n",
              "      <th>X.4</th>\n",
              "    </tr>\n",
              "  </thead>\n",
              "  <tbody>\n",
              "    <tr>\n",
              "      <th>0</th>\n",
              "      <td>1 Mar</td>\n",
              "      <td>3</td>\n",
              "      <td>NaN</td>\n",
              "      <td>NaN</td>\n",
              "      <td>undefined</td>\n",
              "      <td>undefined</td>\n",
              "      <td>undefined</td>\n",
              "      <td>undefined</td>\n",
              "    </tr>\n",
              "    <tr>\n",
              "      <th>1</th>\n",
              "      <td>2 Mar</td>\n",
              "      <td>6</td>\n",
              "      <td>NaN</td>\n",
              "      <td>NaN</td>\n",
              "      <td>undefined</td>\n",
              "      <td>undefined</td>\n",
              "      <td>undefined</td>\n",
              "      <td>undefined</td>\n",
              "    </tr>\n",
              "    <tr>\n",
              "      <th>2</th>\n",
              "      <td>3 Mar</td>\n",
              "      <td>8</td>\n",
              "      <td>NaN</td>\n",
              "      <td>NaN</td>\n",
              "      <td>undefined</td>\n",
              "      <td>undefined</td>\n",
              "      <td>undefined</td>\n",
              "      <td>undefined</td>\n",
              "    </tr>\n",
              "    <tr>\n",
              "      <th>3</th>\n",
              "      <td>4 Mar</td>\n",
              "      <td>30</td>\n",
              "      <td>NaN</td>\n",
              "      <td>NaN</td>\n",
              "      <td>undefined</td>\n",
              "      <td>undefined</td>\n",
              "      <td>undefined</td>\n",
              "      <td>undefined</td>\n",
              "    </tr>\n",
              "    <tr>\n",
              "      <th>4</th>\n",
              "      <td>5 Mar</td>\n",
              "      <td>31</td>\n",
              "      <td>NaN</td>\n",
              "      <td>NaN</td>\n",
              "      <td>undefined</td>\n",
              "      <td>undefined</td>\n",
              "      <td>undefined</td>\n",
              "      <td>undefined</td>\n",
              "    </tr>\n",
              "  </tbody>\n",
              "</table>\n",
              "</div>"
            ],
            "text/plain": [
              "     Date  Total cases  Total Recovered  ...        X.2        X.3        X.4\n",
              "0  1 Mar             3              NaN  ...  undefined  undefined  undefined\n",
              "1  2 Mar             6              NaN  ...  undefined  undefined  undefined\n",
              "2  3 Mar             8              NaN  ...  undefined  undefined  undefined\n",
              "3  4 Mar            30              NaN  ...  undefined  undefined  undefined\n",
              "4  5 Mar            31              NaN  ...  undefined  undefined  undefined\n",
              "\n",
              "[5 rows x 8 columns]"
            ]
          },
          "metadata": {
            "tags": []
          },
          "execution_count": 9
        }
      ]
    },
    {
      "cell_type": "code",
      "metadata": {
        "id": "8WvaUPMgaAWA",
        "colab_type": "code",
        "colab": {
          "base_uri": "https://localhost:8080/",
          "height": 204
        },
        "outputId": "30a0f59b-d5ab-41ee-cfe3-0344e01f4c79"
      },
      "source": [
        "data2.tail()"
      ],
      "execution_count": 10,
      "outputs": [
        {
          "output_type": "execute_result",
          "data": {
            "text/html": [
              "<div>\n",
              "<style scoped>\n",
              "    .dataframe tbody tr th:only-of-type {\n",
              "        vertical-align: middle;\n",
              "    }\n",
              "\n",
              "    .dataframe tbody tr th {\n",
              "        vertical-align: top;\n",
              "    }\n",
              "\n",
              "    .dataframe thead th {\n",
              "        text-align: right;\n",
              "    }\n",
              "</style>\n",
              "<table border=\"1\" class=\"dataframe\">\n",
              "  <thead>\n",
              "    <tr style=\"text-align: right;\">\n",
              "      <th></th>\n",
              "      <th>Date</th>\n",
              "      <th>Total cases</th>\n",
              "      <th>Total Recovered</th>\n",
              "      <th>Total Death</th>\n",
              "      <th>X.1</th>\n",
              "      <th>X.2</th>\n",
              "      <th>X.3</th>\n",
              "      <th>X.4</th>\n",
              "    </tr>\n",
              "  </thead>\n",
              "  <tbody>\n",
              "    <tr>\n",
              "      <th>86</th>\n",
              "      <td>26 May</td>\n",
              "      <td>151767</td>\n",
              "      <td>64426.0</td>\n",
              "      <td>4337.0</td>\n",
              "      <td>undefined</td>\n",
              "      <td>undefined</td>\n",
              "      <td>undefined</td>\n",
              "      <td>undefined</td>\n",
              "    </tr>\n",
              "    <tr>\n",
              "      <th>87</th>\n",
              "      <td>27 May</td>\n",
              "      <td>158333</td>\n",
              "      <td>67692.0</td>\n",
              "      <td>4531.0</td>\n",
              "      <td>undefined</td>\n",
              "      <td>undefined</td>\n",
              "      <td>undefined</td>\n",
              "      <td>undefined</td>\n",
              "    </tr>\n",
              "    <tr>\n",
              "      <th>88</th>\n",
              "      <td>28 May</td>\n",
              "      <td>165799</td>\n",
              "      <td>71106.0</td>\n",
              "      <td>4706.0</td>\n",
              "      <td>undefined</td>\n",
              "      <td>undefined</td>\n",
              "      <td>undefined</td>\n",
              "      <td>undefined</td>\n",
              "    </tr>\n",
              "    <tr>\n",
              "      <th>89</th>\n",
              "      <td>29 May</td>\n",
              "      <td>173763</td>\n",
              "      <td>82370.0</td>\n",
              "      <td>4971.0</td>\n",
              "      <td>undefined</td>\n",
              "      <td>undefined</td>\n",
              "      <td>undefined</td>\n",
              "      <td>undefined</td>\n",
              "    </tr>\n",
              "    <tr>\n",
              "      <th>90</th>\n",
              "      <td>30 May</td>\n",
              "      <td>182143</td>\n",
              "      <td>86984.0</td>\n",
              "      <td>5164.0</td>\n",
              "      <td>undefined</td>\n",
              "      <td>undefined</td>\n",
              "      <td>undefined</td>\n",
              "      <td>undefined</td>\n",
              "    </tr>\n",
              "  </tbody>\n",
              "</table>\n",
              "</div>"
            ],
            "text/plain": [
              "       Date  Total cases  Total Recovered  ...        X.2        X.3        X.4\n",
              "86  26 May        151767          64426.0  ...  undefined  undefined  undefined\n",
              "87  27 May        158333          67692.0  ...  undefined  undefined  undefined\n",
              "88  28 May        165799          71106.0  ...  undefined  undefined  undefined\n",
              "89  29 May        173763          82370.0  ...  undefined  undefined  undefined\n",
              "90  30 May        182143          86984.0  ...  undefined  undefined  undefined\n",
              "\n",
              "[5 rows x 8 columns]"
            ]
          },
          "metadata": {
            "tags": []
          },
          "execution_count": 10
        }
      ]
    },
    {
      "cell_type": "markdown",
      "metadata": {
        "id": "cfEXMzJqfsOe",
        "colab_type": "text"
      },
      "source": [
        "## **Remove unnecessary columns**"
      ]
    },
    {
      "cell_type": "code",
      "metadata": {
        "id": "ltxsgmUyaEdo",
        "colab_type": "code",
        "colab": {}
      },
      "source": [
        "data2 = data2.drop(['X.1','X.2','X.3','X.4'],axis=1)"
      ],
      "execution_count": 0,
      "outputs": []
    },
    {
      "cell_type": "markdown",
      "metadata": {
        "id": "bSd2UGUbf3ol",
        "colab_type": "text"
      },
      "source": [
        "## **Replacing Null values with zeros**"
      ]
    },
    {
      "cell_type": "code",
      "metadata": {
        "id": "flTh0wu4aPE8",
        "colab_type": "code",
        "colab": {
          "base_uri": "https://localhost:8080/",
          "height": 419
        },
        "outputId": "89184384-af05-4020-fb31-509e920e3198"
      },
      "source": [
        "data2.fillna(0)"
      ],
      "execution_count": 29,
      "outputs": [
        {
          "output_type": "execute_result",
          "data": {
            "text/html": [
              "<div>\n",
              "<style scoped>\n",
              "    .dataframe tbody tr th:only-of-type {\n",
              "        vertical-align: middle;\n",
              "    }\n",
              "\n",
              "    .dataframe tbody tr th {\n",
              "        vertical-align: top;\n",
              "    }\n",
              "\n",
              "    .dataframe thead th {\n",
              "        text-align: right;\n",
              "    }\n",
              "</style>\n",
              "<table border=\"1\" class=\"dataframe\">\n",
              "  <thead>\n",
              "    <tr style=\"text-align: right;\">\n",
              "      <th></th>\n",
              "      <th>Date</th>\n",
              "      <th>Total cases</th>\n",
              "      <th>Total Recovered</th>\n",
              "      <th>Total Death</th>\n",
              "      <th>New</th>\n",
              "    </tr>\n",
              "  </thead>\n",
              "  <tbody>\n",
              "    <tr>\n",
              "      <th>0</th>\n",
              "      <td>1 Mar</td>\n",
              "      <td>3</td>\n",
              "      <td>0.0</td>\n",
              "      <td>0.0</td>\n",
              "      <td>3.0</td>\n",
              "    </tr>\n",
              "    <tr>\n",
              "      <th>1</th>\n",
              "      <td>2 Mar</td>\n",
              "      <td>6</td>\n",
              "      <td>0.0</td>\n",
              "      <td>0.0</td>\n",
              "      <td>3.0</td>\n",
              "    </tr>\n",
              "    <tr>\n",
              "      <th>2</th>\n",
              "      <td>3 Mar</td>\n",
              "      <td>8</td>\n",
              "      <td>0.0</td>\n",
              "      <td>0.0</td>\n",
              "      <td>2.0</td>\n",
              "    </tr>\n",
              "    <tr>\n",
              "      <th>3</th>\n",
              "      <td>4 Mar</td>\n",
              "      <td>30</td>\n",
              "      <td>0.0</td>\n",
              "      <td>0.0</td>\n",
              "      <td>22.0</td>\n",
              "    </tr>\n",
              "    <tr>\n",
              "      <th>4</th>\n",
              "      <td>5 Mar</td>\n",
              "      <td>31</td>\n",
              "      <td>0.0</td>\n",
              "      <td>0.0</td>\n",
              "      <td>1.0</td>\n",
              "    </tr>\n",
              "    <tr>\n",
              "      <th>...</th>\n",
              "      <td>...</td>\n",
              "      <td>...</td>\n",
              "      <td>...</td>\n",
              "      <td>...</td>\n",
              "      <td>...</td>\n",
              "    </tr>\n",
              "    <tr>\n",
              "      <th>86</th>\n",
              "      <td>26 May</td>\n",
              "      <td>151767</td>\n",
              "      <td>64426.0</td>\n",
              "      <td>4337.0</td>\n",
              "      <td>6387.0</td>\n",
              "    </tr>\n",
              "    <tr>\n",
              "      <th>87</th>\n",
              "      <td>27 May</td>\n",
              "      <td>158333</td>\n",
              "      <td>67692.0</td>\n",
              "      <td>4531.0</td>\n",
              "      <td>6566.0</td>\n",
              "    </tr>\n",
              "    <tr>\n",
              "      <th>88</th>\n",
              "      <td>28 May</td>\n",
              "      <td>165799</td>\n",
              "      <td>71106.0</td>\n",
              "      <td>4706.0</td>\n",
              "      <td>7466.0</td>\n",
              "    </tr>\n",
              "    <tr>\n",
              "      <th>89</th>\n",
              "      <td>29 May</td>\n",
              "      <td>173763</td>\n",
              "      <td>82370.0</td>\n",
              "      <td>4971.0</td>\n",
              "      <td>7964.0</td>\n",
              "    </tr>\n",
              "    <tr>\n",
              "      <th>90</th>\n",
              "      <td>30 May</td>\n",
              "      <td>182143</td>\n",
              "      <td>86984.0</td>\n",
              "      <td>5164.0</td>\n",
              "      <td>8380.0</td>\n",
              "    </tr>\n",
              "  </tbody>\n",
              "</table>\n",
              "<p>91 rows × 5 columns</p>\n",
              "</div>"
            ],
            "text/plain": [
              "       Date  Total cases  Total Recovered  Total Death     New\n",
              "0    1 Mar             3              0.0          0.0     3.0\n",
              "1    2 Mar             6              0.0          0.0     3.0\n",
              "2    3 Mar             8              0.0          0.0     2.0\n",
              "3    4 Mar            30              0.0          0.0    22.0\n",
              "4    5 Mar            31              0.0          0.0     1.0\n",
              "..      ...          ...              ...          ...     ...\n",
              "86  26 May        151767          64426.0       4337.0  6387.0\n",
              "87  27 May        158333          67692.0       4531.0  6566.0\n",
              "88  28 May        165799          71106.0       4706.0  7466.0\n",
              "89  29 May        173763          82370.0       4971.0  7964.0\n",
              "90  30 May        182143          86984.0       5164.0  8380.0\n",
              "\n",
              "[91 rows x 5 columns]"
            ]
          },
          "metadata": {
            "tags": []
          },
          "execution_count": 29
        }
      ]
    },
    {
      "cell_type": "markdown",
      "metadata": {
        "id": "Sx7nSpR8d1aw",
        "colab_type": "text"
      },
      "source": [
        "### **Spread of Corona Virus in India**\n"
      ]
    },
    {
      "cell_type": "code",
      "metadata": {
        "id": "IoH7ZuyebmH0",
        "colab_type": "code",
        "colab": {
          "base_uri": "https://localhost:8080/",
          "height": 296
        },
        "outputId": "81261fbe-d014-4c1a-95e2-12d05c6b9c41"
      },
      "source": [
        "data2.plot(x='Date')"
      ],
      "execution_count": 13,
      "outputs": [
        {
          "output_type": "execute_result",
          "data": {
            "text/plain": [
              "<matplotlib.axes._subplots.AxesSubplot at 0x7f05eabdf978>"
            ]
          },
          "metadata": {
            "tags": []
          },
          "execution_count": 13
        },
        {
          "output_type": "display_data",
          "data": {
            "image/png": "[encoded data removed]",
            "text/plain": [
              "<Figure size 432x288 with 1 Axes>"
            ]
          },
          "metadata": {
            "tags": [],
            "needs_background": "light"
          }
        }
      ]
    },
    {
      "cell_type": "markdown",
      "metadata": {
        "id": "gzHIaeoYmtY9",
        "colab_type": "text"
      },
      "source": [
        "### **Calculating number of New Cases**"
      ]
    },
    {
      "cell_type": "code",
      "metadata": {
        "id": "oO_xnUpmmC_H",
        "colab_type": "code",
        "colab": {
          "base_uri": "https://localhost:8080/",
          "height": 419
        },
        "outputId": "487eda3c-c60e-49a3-d2de-e87f33181939"
      },
      "source": [
        "data2[\"New\"] = data2[\"Total cases\"] - data2[\"Total cases\"].shift(1)\n",
        "data2[\"New\"] = data2[\"New\"].fillna(method='bfill')\n",
        "data2.fillna(0)"
      ],
      "execution_count": 32,
      "outputs": [
        {
          "output_type": "execute_result",
          "data": {
            "text/html": [
              "<div>\n",
              "<style scoped>\n",
              "    .dataframe tbody tr th:only-of-type {\n",
              "        vertical-align: middle;\n",
              "    }\n",
              "\n",
              "    .dataframe tbody tr th {\n",
              "        vertical-align: top;\n",
              "    }\n",
              "\n",
              "    .dataframe thead th {\n",
              "        text-align: right;\n",
              "    }\n",
              "</style>\n",
              "<table border=\"1\" class=\"dataframe\">\n",
              "  <thead>\n",
              "    <tr style=\"text-align: right;\">\n",
              "      <th></th>\n",
              "      <th>Date</th>\n",
              "      <th>Total cases</th>\n",
              "      <th>Total Recovered</th>\n",
              "      <th>Total Death</th>\n",
              "      <th>New</th>\n",
              "    </tr>\n",
              "  </thead>\n",
              "  <tbody>\n",
              "    <tr>\n",
              "      <th>0</th>\n",
              "      <td>1 Mar</td>\n",
              "      <td>3</td>\n",
              "      <td>0.0</td>\n",
              "      <td>0.0</td>\n",
              "      <td>3.0</td>\n",
              "    </tr>\n",
              "    <tr>\n",
              "      <th>1</th>\n",
              "      <td>2 Mar</td>\n",
              "      <td>6</td>\n",
              "      <td>0.0</td>\n",
              "      <td>0.0</td>\n",
              "      <td>3.0</td>\n",
              "    </tr>\n",
              "    <tr>\n",
              "      <th>2</th>\n",
              "      <td>3 Mar</td>\n",
              "      <td>8</td>\n",
              "      <td>0.0</td>\n",
              "      <td>0.0</td>\n",
              "      <td>2.0</td>\n",
              "    </tr>\n",
              "    <tr>\n",
              "      <th>3</th>\n",
              "      <td>4 Mar</td>\n",
              "      <td>30</td>\n",
              "      <td>0.0</td>\n",
              "      <td>0.0</td>\n",
              "      <td>22.0</td>\n",
              "    </tr>\n",
              "    <tr>\n",
              "      <th>4</th>\n",
              "      <td>5 Mar</td>\n",
              "      <td>31</td>\n",
              "      <td>0.0</td>\n",
              "      <td>0.0</td>\n",
              "      <td>1.0</td>\n",
              "    </tr>\n",
              "    <tr>\n",
              "      <th>...</th>\n",
              "      <td>...</td>\n",
              "      <td>...</td>\n",
              "      <td>...</td>\n",
              "      <td>...</td>\n",
              "      <td>...</td>\n",
              "    </tr>\n",
              "    <tr>\n",
              "      <th>86</th>\n",
              "      <td>26 May</td>\n",
              "      <td>151767</td>\n",
              "      <td>64426.0</td>\n",
              "      <td>4337.0</td>\n",
              "      <td>6387.0</td>\n",
              "    </tr>\n",
              "    <tr>\n",
              "      <th>87</th>\n",
              "      <td>27 May</td>\n",
              "      <td>158333</td>\n",
              "      <td>67692.0</td>\n",
              "      <td>4531.0</td>\n",
              "      <td>6566.0</td>\n",
              "    </tr>\n",
              "    <tr>\n",
              "      <th>88</th>\n",
              "      <td>28 May</td>\n",
              "      <td>165799</td>\n",
              "      <td>71106.0</td>\n",
              "      <td>4706.0</td>\n",
              "      <td>7466.0</td>\n",
              "    </tr>\n",
              "    <tr>\n",
              "      <th>89</th>\n",
              "      <td>29 May</td>\n",
              "      <td>173763</td>\n",
              "      <td>82370.0</td>\n",
              "      <td>4971.0</td>\n",
              "      <td>7964.0</td>\n",
              "    </tr>\n",
              "    <tr>\n",
              "      <th>90</th>\n",
              "      <td>30 May</td>\n",
              "      <td>182143</td>\n",
              "      <td>86984.0</td>\n",
              "      <td>5164.0</td>\n",
              "      <td>8380.0</td>\n",
              "    </tr>\n",
              "  </tbody>\n",
              "</table>\n",
              "<p>91 rows × 5 columns</p>\n",
              "</div>"
            ],
            "text/plain": [
              "       Date  Total cases  Total Recovered  Total Death     New\n",
              "0    1 Mar             3              0.0          0.0     3.0\n",
              "1    2 Mar             6              0.0          0.0     3.0\n",
              "2    3 Mar             8              0.0          0.0     2.0\n",
              "3    4 Mar            30              0.0          0.0    22.0\n",
              "4    5 Mar            31              0.0          0.0     1.0\n",
              "..      ...          ...              ...          ...     ...\n",
              "86  26 May        151767          64426.0       4337.0  6387.0\n",
              "87  27 May        158333          67692.0       4531.0  6566.0\n",
              "88  28 May        165799          71106.0       4706.0  7466.0\n",
              "89  29 May        173763          82370.0       4971.0  7964.0\n",
              "90  30 May        182143          86984.0       5164.0  8380.0\n",
              "\n",
              "[91 rows x 5 columns]"
            ]
          },
          "metadata": {
            "tags": []
          },
          "execution_count": 32
        }
      ]
    },
    {
      "cell_type": "markdown",
      "metadata": {
        "id": "3Ws22GtcnMhN",
        "colab_type": "text"
      },
      "source": [
        "### **Visualization of new cases**"
      ]
    },
    {
      "cell_type": "code",
      "metadata": {
        "id": "kSec64VVnLQn",
        "colab_type": "code",
        "colab": {
          "base_uri": "https://localhost:8080/",
          "height": 709
        },
        "outputId": "048685d4-91ec-4c09-a19b-8219ba2ecfca"
      },
      "source": [
        "fig, ax = plt.subplots(nrows=2, ncols=1, sharex=True, figsize=(20,15))\n",
        "ax[0].scatter(data2[\"Date\"], data2[\"Total cases\"].values, color=\"black\")\n",
        "ax[0].set(title=\"total cases\")\n",
        "ax[1].bar(data2[\"Date\"], data2[\"New\"].values, color=\"black\")\n",
        "ax[1].set(title=\"New Cases\")\n",
        "plt.show()"
      ],
      "execution_count": 41,
      "outputs": [
        {
          "output_type": "display_data",
          "data": {
            "image/png": "[encoded data removed]",
            "text/plain": [
              "<Figure size 1440x1080 with 2 Axes>"
            ]
          },
          "metadata": {
            "tags": [],
            "needs_background": "light"
          }
        }
      ]
    },
    {
      "cell_type": "markdown",
      "metadata": {
        "id": "IVAbQeldi2La",
        "colab_type": "text"
      },
      "source": [
        "### **Linear Function**"
      ]
    },
    {
      "cell_type": "code",
      "metadata": {
        "id": "sn_RtvFgcVNK",
        "colab_type": "code",
        "colab": {}
      },
      "source": [
        "def f(x):\n",
        "    return 10 + 1500*x\n",
        "\n",
        "y_linear = f(x=np.arange(len(data2)))"
      ],
      "execution_count": 0,
      "outputs": []
    },
    {
      "cell_type": "markdown",
      "metadata": {
        "id": "alR2HwzpqBYl",
        "colab_type": "text"
      },
      "source": [
        "### **Exponential Function**"
      ]
    },
    {
      "cell_type": "code",
      "metadata": {
        "id": "V2UNdVKPjDhE",
        "colab_type": "code",
        "colab": {}
      },
      "source": [
        "def f(x):\n",
        "    return 10 + 1.18**x\n",
        "\n",
        "y_exponential = f(x=np.arange(len(data2)))"
      ],
      "execution_count": 0,
      "outputs": []
    },
    {
      "cell_type": "markdown",
      "metadata": {
        "id": "zqxCcHe-qGTX",
        "colab_type": "text"
      },
      "source": [
        "### **Logistic Function**"
      ]
    },
    {
      "cell_type": "code",
      "metadata": {
        "id": "E_w7_8cujJZN",
        "colab_type": "code",
        "colab": {}
      },
      "source": [
        "def f(x): \n",
        "    return 90000 / (1 + np.exp(-0.5*(x-20)))\n",
        "\n",
        "y_logistic = f(x=np.arange(len(data2)))"
      ],
      "execution_count": 0,
      "outputs": []
    },
    {
      "cell_type": "code",
      "metadata": {
        "id": "4mIiF1HRpoFT",
        "colab_type": "code",
        "colab": {
          "base_uri": "https://localhost:8080/",
          "height": 450
        },
        "outputId": "4cff5052-c7f7-42f1-95c3-d38a98d26663"
      },
      "source": [
        "data2.set_index('Date')"
      ],
      "execution_count": 49,
      "outputs": [
        {
          "output_type": "execute_result",
          "data": {
            "text/html": [
              "<div>\n",
              "<style scoped>\n",
              "    .dataframe tbody tr th:only-of-type {\n",
              "        vertical-align: middle;\n",
              "    }\n",
              "\n",
              "    .dataframe tbody tr th {\n",
              "        vertical-align: top;\n",
              "    }\n",
              "\n",
              "    .dataframe thead th {\n",
              "        text-align: right;\n",
              "    }\n",
              "</style>\n",
              "<table border=\"1\" class=\"dataframe\">\n",
              "  <thead>\n",
              "    <tr style=\"text-align: right;\">\n",
              "      <th></th>\n",
              "      <th>Total cases</th>\n",
              "      <th>Total Recovered</th>\n",
              "      <th>Total Death</th>\n",
              "      <th>New</th>\n",
              "    </tr>\n",
              "    <tr>\n",
              "      <th>Date</th>\n",
              "      <th></th>\n",
              "      <th></th>\n",
              "      <th></th>\n",
              "      <th></th>\n",
              "    </tr>\n",
              "  </thead>\n",
              "  <tbody>\n",
              "    <tr>\n",
              "      <th>1 Mar</th>\n",
              "      <td>3</td>\n",
              "      <td>NaN</td>\n",
              "      <td>NaN</td>\n",
              "      <td>3.0</td>\n",
              "    </tr>\n",
              "    <tr>\n",
              "      <th>2 Mar</th>\n",
              "      <td>6</td>\n",
              "      <td>NaN</td>\n",
              "      <td>NaN</td>\n",
              "      <td>3.0</td>\n",
              "    </tr>\n",
              "    <tr>\n",
              "      <th>3 Mar</th>\n",
              "      <td>8</td>\n",
              "      <td>NaN</td>\n",
              "      <td>NaN</td>\n",
              "      <td>2.0</td>\n",
              "    </tr>\n",
              "    <tr>\n",
              "      <th>4 Mar</th>\n",
              "      <td>30</td>\n",
              "      <td>NaN</td>\n",
              "      <td>NaN</td>\n",
              "      <td>22.0</td>\n",
              "    </tr>\n",
              "    <tr>\n",
              "      <th>5 Mar</th>\n",
              "      <td>31</td>\n",
              "      <td>NaN</td>\n",
              "      <td>NaN</td>\n",
              "      <td>1.0</td>\n",
              "    </tr>\n",
              "    <tr>\n",
              "      <th>...</th>\n",
              "      <td>...</td>\n",
              "      <td>...</td>\n",
              "      <td>...</td>\n",
              "      <td>...</td>\n",
              "    </tr>\n",
              "    <tr>\n",
              "      <th>26 May</th>\n",
              "      <td>151767</td>\n",
              "      <td>64426.0</td>\n",
              "      <td>4337.0</td>\n",
              "      <td>6387.0</td>\n",
              "    </tr>\n",
              "    <tr>\n",
              "      <th>27 May</th>\n",
              "      <td>158333</td>\n",
              "      <td>67692.0</td>\n",
              "      <td>4531.0</td>\n",
              "      <td>6566.0</td>\n",
              "    </tr>\n",
              "    <tr>\n",
              "      <th>28 May</th>\n",
              "      <td>165799</td>\n",
              "      <td>71106.0</td>\n",
              "      <td>4706.0</td>\n",
              "      <td>7466.0</td>\n",
              "    </tr>\n",
              "    <tr>\n",
              "      <th>29 May</th>\n",
              "      <td>173763</td>\n",
              "      <td>82370.0</td>\n",
              "      <td>4971.0</td>\n",
              "      <td>7964.0</td>\n",
              "    </tr>\n",
              "    <tr>\n",
              "      <th>30 May</th>\n",
              "      <td>182143</td>\n",
              "      <td>86984.0</td>\n",
              "      <td>5164.0</td>\n",
              "      <td>8380.0</td>\n",
              "    </tr>\n",
              "  </tbody>\n",
              "</table>\n",
              "<p>91 rows × 4 columns</p>\n",
              "</div>"
            ],
            "text/plain": [
              "         Total cases  Total Recovered  Total Death     New\n",
              "Date                                                      \n",
              "1 Mar              3              NaN          NaN     3.0\n",
              "2 Mar              6              NaN          NaN     3.0\n",
              "3 Mar              8              NaN          NaN     2.0\n",
              "4 Mar             30              NaN          NaN    22.0\n",
              "5 Mar             31              NaN          NaN     1.0\n",
              "...              ...              ...          ...     ...\n",
              "26 May        151767          64426.0       4337.0  6387.0\n",
              "27 May        158333          67692.0       4531.0  6566.0\n",
              "28 May        165799          71106.0       4706.0  7466.0\n",
              "29 May        173763          82370.0       4971.0  7964.0\n",
              "30 May        182143          86984.0       5164.0  8380.0\n",
              "\n",
              "[91 rows x 4 columns]"
            ]
          },
          "metadata": {
            "tags": []
          },
          "execution_count": 49
        }
      ]
    },
    {
      "cell_type": "markdown",
      "metadata": {
        "id": "4ef7xFCTqxRr",
        "colab_type": "text"
      },
      "source": [
        "## **Linear , Exponential and Logistic growth rate of New Cases**\n",
        "\n",
        "---\n",
        "\n"
      ]
    },
    {
      "cell_type": "code",
      "metadata": {
        "id": "uryFV6R1jN3P",
        "colab_type": "code",
        "colab": {
          "base_uri": "https://localhost:8080/",
          "height": 331
        },
        "outputId": "cc629573-9e91-46de-b3cf-1aa1929c3c17"
      },
      "source": [
        "fig, ax = plt.subplots(figsize=(13,5))\n",
        "#ax.scatter(data2[\"Total cases\"].index, data2[\"Total cases\"].values, color=\"black\")\n",
        "ax.plot(data2[\"Total cases\"].index, y_linear, label=\"linear\", color=\"red\")\n",
        "ax.plot(data2[\"Total cases\"].index, y_exponential, label=\"exponential\", color=\"green\")\n",
        "ax.plot(data2[\"Total cases\"].index, y_logistic, label=\"logistic\", color=\"blue\")\n",
        "ax.legend()\n",
        "plt.show()"
      ],
      "execution_count": 53,
      "outputs": [
        {
          "output_type": "display_data",
          "data": {
            "image/png": "[encoded data removed]",
            "text/plain": [
              "<Figure size 936x360 with 1 Axes>"
            ]
          },
          "metadata": {
            "tags": [],
            "needs_background": "light"
          }
        }
      ]
    },
    {
      "cell_type": "code",
      "metadata": {
        "id": "8Gv8kA41jtFV",
        "colab_type": "code",
        "colab": {}
      },
      "source": [
        ""
      ],
      "execution_count": 0,
      "outputs": []
    }
  ]
}